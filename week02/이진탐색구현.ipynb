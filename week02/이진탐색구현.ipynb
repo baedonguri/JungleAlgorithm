{
 "cells": [
  {
   "cell_type": "code",
   "execution_count": 3,
   "metadata": {},
   "outputs": [],
   "source": [
    "def bisect_left(arr, value, start, end):\n",
    "    if start >= end:\n",
    "        return start\n",
    "    mid = (start+end)//2\n",
    "    if arr[mid] < value:\n",
    "        return bisect_left(arr, value, mid+1, end)\n",
    "    else:\n",
    "        return bisect_left(arr,value,start,mid)"
   ]
  },
  {
   "cell_type": "code",
   "execution_count": 12,
   "metadata": {},
   "outputs": [],
   "source": [
    "def bisect_right(arr, value, start, end):\n",
    "    if start >= end:\n",
    "        return start\n",
    "    mid = (start+end)//2\n",
    "    if value < arr[mid]:\n",
    "        return bisect_right(arr, value, start, mid)\n",
    "    else:\n",
    "        return bisect_right(arr, value, mid + 1, end)"
   ]
  },
  {
   "cell_type": "code",
   "execution_count": 14,
   "metadata": {},
   "outputs": [],
   "source": [
    "def bsearch(arr, value, start, end):\n",
    "    found = bisect_left(arr, value, start, end)\n",
    "    return found if found < len(arr) and arr[found] == value else -1"
   ]
  },
  {
   "cell_type": "code",
   "execution_count": null,
   "metadata": {},
   "outputs": [],
   "source": []
  }
 ],
 "metadata": {
  "interpreter": {
   "hash": "24dee13c7bd05a21a6155529b90189a970375cebf5fb0a3304b8ee3f55964cc1"
  },
  "kernelspec": {
   "display_name": "Python 3.8.5 ('base')",
   "language": "python",
   "name": "python3"
  },
  "language_info": {
   "codemirror_mode": {
    "name": "ipython",
    "version": 3
   },
   "file_extension": ".py",
   "mimetype": "text/x-python",
   "name": "python",
   "nbconvert_exporter": "python",
   "pygments_lexer": "ipython3",
   "version": "3.8.5"
  },
  "orig_nbformat": 4
 },
 "nbformat": 4,
 "nbformat_minor": 2
}
